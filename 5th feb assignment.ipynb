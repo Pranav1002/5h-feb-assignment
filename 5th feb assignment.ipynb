{
 "cells": [
  {
   "cell_type": "code",
   "execution_count": 1,
   "id": "dfbf582a-b61e-4bdb-b097-0dbfcc346a57",
   "metadata": {},
   "outputs": [
    {
     "name": "stdout",
     "output_type": "stream",
     "text": [
      "car model :  fortuner\n",
      "car color :  black\n"
     ]
    }
   ],
   "source": [
    "#1) Explain Class and Object with respect to Object-Oriented Programming. Give a suitable example.\n",
    "'''--> class is blueprint or template from which objects are created.\n",
    "   --> object is a real world entity such as pen, car, bike, bed etc..'''\n",
    "\n",
    "class car:\n",
    "    def __init__(self, model, color):\n",
    "        self.model=model\n",
    "        self.color=color\n",
    "        \n",
    "c1=car('fortuner','black')\n",
    "\n",
    "print('car model : ',c1.model)\n",
    "print('car color : ',c1.color)\n"
   ]
  },
  {
   "cell_type": "code",
   "execution_count": 2,
   "id": "8257c482-0e1d-4123-843c-71a151bff020",
   "metadata": {},
   "outputs": [
    {
     "data": {
      "text/plain": [
       "'\\n1) Inheritance\\n2) Encapsulation\\n3) Abstraction\\n4) Polymorphism\\n'"
      ]
     },
     "execution_count": 2,
     "metadata": {},
     "output_type": "execute_result"
    }
   ],
   "source": [
    "#2) Name the four pillars of OOPs.\n",
    "'''\n",
    "1) Inheritance\n",
    "2) Encapsulation\n",
    "3) Abstraction\n",
    "4) Polymorphism\n",
    "'''"
   ]
  },
  {
   "cell_type": "code",
   "execution_count": 3,
   "id": "7010962e-099b-4a17-97fe-bf69ad7aa184",
   "metadata": {},
   "outputs": [
    {
     "name": "stdout",
     "output_type": "stream",
     "text": [
      "car model :  fortuner\n",
      "car color :  black\n"
     ]
    }
   ],
   "source": [
    "#3) Explain why the __init__() function is used. Give a suitable example.\n",
    "'''__init__() is a reserved method in Python.  It is called as a constructor in object oriented terminology. \n",
    "This method is called when an object is created from a class and it allows the class to initialize the attributes of the class.\n",
    "'''\n",
    "\n",
    "class car:\n",
    "    def __init__(self, model, color):\n",
    "        self.model=model\n",
    "        self.color=color\n",
    "        \n",
    "c1=car('fortuner','black')\n",
    "\n",
    "print('car model : ',c1.model)\n",
    "print('car color : ',c1.color)"
   ]
  },
  {
   "cell_type": "code",
   "execution_count": 4,
   "id": "602fb958-9401-451e-bc88-6da704fb1562",
   "metadata": {},
   "outputs": [
    {
     "data": {
      "text/plain": [
       "'\\nPython uses the self parameter to refer to instance attributes and methods of the class.'"
      ]
     },
     "execution_count": 4,
     "metadata": {},
     "output_type": "execute_result"
    }
   ],
   "source": [
    "#4) Why self is used in OOPs ?\n",
    "'''\n",
    "Python uses the self parameter to refer to instance attributes and methods of the class.'''"
   ]
  },
  {
   "cell_type": "code",
   "execution_count": null,
   "id": "6298c40b-d9f1-4fb4-9a2e-44076cf7b512",
   "metadata": {},
   "outputs": [],
   "source": [
    "#5) What is inheritance? Give an example for each type of inheritance.\n",
    "'''\n",
    "Inheritance is a mechanism in which one class aquires the properties of other class.\n",
    "With inheritance, we can reuse the fields and methods of the existing class.\n",
    "'''"
   ]
  }
 ],
 "metadata": {
  "kernelspec": {
   "display_name": "Python 3 (ipykernel)",
   "language": "python",
   "name": "python3"
  },
  "language_info": {
   "codemirror_mode": {
    "name": "ipython",
    "version": 3
   },
   "file_extension": ".py",
   "mimetype": "text/x-python",
   "name": "python",
   "nbconvert_exporter": "python",
   "pygments_lexer": "ipython3",
   "version": "3.10.8"
  }
 },
 "nbformat": 4,
 "nbformat_minor": 5
}
